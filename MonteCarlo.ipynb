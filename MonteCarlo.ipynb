{
 "cells": [
  {
   "cell_type": "code",
   "execution_count": 1,
   "metadata": {},
   "outputs": [
    {
     "name": "stdout",
     "output_type": "stream",
     "text": [
      "13\n",
      "1.3\n"
     ]
    }
   ],
   "source": [
    "import numpy as np\n",
    "import matplotlib.pyplot as plt\n",
    "from scipy.integrate import quad\n",
    "from scipy.stats import rv_continuous\n",
    "\n",
    "\n",
    "class Gaussian_Gen(rv_continuous):\n",
    "    \"Gaussian distribution\"\n",
    "\n",
    "    def _pdf(self, x):\n",
    "        return float((4 * np.math.pow(10, -32)) / (np.math.pow(x, 5)))\n",
    "\n",
    "gaussian = Gaussian_Gen(name='gaussian')\n",
    "\n",
    "def get_rand_number(min_value, max_value):\n",
    "    \"\"\"\n",
    "    This function gets a random number from a uniform distribution between\n",
    "    the two input values [min_value, max_value] inclusively\n",
    "    Args:\n",
    "    - min_value (float)\n",
    "    - max_value (float)\n",
    "    Return:\n",
    "    - Random number between this range (float)\n",
    "    \"\"\"\n",
    "    range = max_value - min_value\n",
    "    choice = np.random.uniform(0, 1)\n",
    "    return min_value + range * choice\n",
    "\n",
    "def monte_carlo(samples = 1000):\n",
    "    #i took the cluster to start from 5.81 and counted to 12 measurements\n",
    "    #according to Table 1\n",
    "    lower_bound = 5.81\n",
    "    upper_bound = 6.20\n",
    "    sum = 0\n",
    "\n",
    "    for j in range(1, 1000):\n",
    "        sum_dsigma = 0\n",
    "        rand_num = []\n",
    "        gauss = []\n",
    "        events = {}\n",
    "        #data for one histogram\n",
    "        for i in range(0, 27):\n",
    "            rand_num.append(get_rand_number(5.5, 10))\n",
    "            gauss.append(gaussian._pdf(rand_num[i]))\n",
    "            #link a random number to a dsigma/dm\n",
    "            #xprint(rand_num, gauss)\n",
    "            events[rand_num[i]] = gauss[i]\n",
    "            sum_dsigma += gauss[i]\n",
    "        #one event should correspond to sum_dsigma/27, i.e. mean\n",
    "        one_event = sum_dsigma/27\n",
    "\n",
    "        #eventsbin holds all dsigma/dm for masses in bin 5.5 - 6.5\n",
    "        sum_eventsbin = 0\n",
    "\n",
    "        for x in events:\n",
    "            if lower_bound <= x <= upper_bound:\n",
    "                sum_eventsbin += events.get(x)\n",
    "\n",
    "        #the dsigma/dm of bin 5.81 - 6.20  is compared to dsigma/dm of\n",
    "        if sum_eventsbin >= one_event * 12:\n",
    "            sum += 1\n",
    "    print(sum)\n",
    "    print(100 * (sum/1000))\n",
    "\n",
    "monte_carlo()\n",
    "\n"
   ]
  }
 ],
 "metadata": {
  "kernelspec": {
   "display_name": "Python 3",
   "language": "python",
   "name": "python3"
  },
  "language_info": {
   "codemirror_mode": {
    "name": "ipython",
    "version": 3
   },
   "file_extension": ".py",
   "mimetype": "text/x-python",
   "name": "python",
   "nbconvert_exporter": "python",
   "pygments_lexer": "ipython3",
   "version": "3.6.11"
  }
 },
 "nbformat": 4,
 "nbformat_minor": 2
}
