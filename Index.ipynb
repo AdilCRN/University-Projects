{
 "cells": [
  {
   "cell_type": "code",
   "execution_count": 1,
   "metadata": {},
   "outputs": [
    {
     "name": "stdout",
     "output_type": "stream",
     "text": [
      "Simulated mains frequency noise data\n",
      "-----------------------------------------------------------------------------------\n",
      "These data have:\n",
      "\tFrequency     =  50.0 (Hz)\n",
      "\tPhase         =  0\n",
      "\tNormalisation =  0.5  (V)\n",
      "\tConstant      =  0.0  (V)\n",
      "\tNoise         =  50.0  (%)\n",
      "\tt             = [ 0 ,  0.1 ] (s)\n",
      "\tN(data)       =  100\n",
      "-----------------------------------------------------------------------------------\n"
     ]
    },
    {
     "data": {
      "image/png": "[encoded data removed]",
      "text/plain": [
       "<Figure size 432x288 with 1 Axes>"
      ]
     },
     "metadata": {
      "needs_background": "light"
     },
     "output_type": "display_data"
    }
   ],
   "source": [
    "\"\"\"\n",
    "We will use scipy for fitting, numpy for mathematical functions (including \n",
    "random number generation) and matplotlib for plotting\n",
    "\"\"\"\n",
    "from scipy import optimize\n",
    "import numpy as np\n",
    "import matplotlib.pyplot as plt\n",
    "plt.close('all')  # free up memory for any pre-existing plots (when re-running the notebook)\n",
    "\n",
    "\n",
    "\n",
    "def fitFunction(time, Normalisation, Freq, Constant, Phase):\n",
    "    \"\"\"\n",
    "This is the model to fit for the mains frequency noise. The arguments of the function are\n",
    "  time    - the x value to be fitted\n",
    "  Normalisation - normalisation (amplitude of signal)\n",
    "  Freq          - frequency\n",
    "  Constant      - constant offset from a baseline of 0\n",
    "  Phase         - phase shift\n",
    "\n",
    "The fitted function is\n",
    "\n",
    "  f = norm * Sin[ 2*pi*t*freq + phi ] + const\n",
    "\n",
    "The frequency is in Hz (cycles per second), and so a value of freq=50 corresponds to \n",
    "50Hz (nominal mains frequency in the UK)\n",
    "\n",
    "phi is a phase shift for the sinusoid\n",
    "\n",
    "norm is the amplitude of the sinusoid\n",
    "\n",
    "const is the voltage offset (which is not necessarily zero) for a measurement\n",
    "\n",
    "\"\"\"\n",
    "    arg = time * 2.0*np.pi*Freq + Phase     # compute the phase shifted argument for the sinusoidal oscillation\n",
    "    return Normalisation * np.sin( arg )  + Constant  # compute the noise component\n",
    "\n",
    "\n",
    "\n",
    "def print_param(name, val, err):\n",
    "    \"\"\"\n",
    "    Helper function for printing out the formatted fit results in a readable format.\n",
    "    The value and error are printed with a 5.3e precision and the print formatting is\n",
    "    using Python 3 nomenclature.\n",
    "    \"\"\"\n",
    "    significance = -999\n",
    "    if( err != 0.0):\n",
    "        significance = val / err\n",
    "    print(\"{:s}  = {:5.3e} +/- {:5.3e} (stat.) [non-zero value significance = {:5.1f} sigma]\".format(name,val,err, significance))\n",
    "    return\n",
    "\n",
    "\n",
    "\n",
    "\"\"\"\n",
    "Simulate some data to fit; for this example we want to simulate some data with noise\n",
    "over some time period in seconds. These data will be fitted in order to extract \n",
    "a 50Hz frequency noise measurement with an assumed absence of any other signal.\n",
    "\n",
    "The parameters Normalisation, Freq, Constant, Phase correspond to the\n",
    "parameters norm, freq, const, phi in the fit function defined above (see fitFunction).\n",
    "\n",
    "N is the number of timesteps to generate in the range t = [time_min, time_max] (s)\n",
    "Noise is the fraction of noise to add to the mains frequency signal.  A value of\n",
    "Noise = 0.05 corresponds to a 5% Gaussian noise added to the model.\n",
    "\"\"\"\n",
    "time    = []\n",
    "voltage = []\n",
    "Freq          = 50.0\n",
    "Phase         = 0\n",
    "Normalisation = 0.5\n",
    "Constant      = 0.0\n",
    "Noise         = 0.5   # Gaussian noise to overlay\n",
    "N             = 100   # the number of points used for this problem\n",
    "time_min = 0\n",
    "time_max = 0.1\n",
    "time_step = (time_max-time_min)/N\n",
    "for i in range(N):\n",
    "    thisTime = i*time_step\n",
    "    time.append(thisTime)\n",
    "    thisV = fitFunction(time[i-1], Normalisation, Freq, Constant, Phase)\n",
    "    thisV += Noise*Normalisation*np.random.normal()\n",
    "    voltage.append(thisV)\n",
    "\n",
    "\"\"\"\n",
    "Plot the simulated data\n",
    "\"\"\"\n",
    "print(\"Simulated mains frequency noise data\")\n",
    "fig = plt.figure()\n",
    "plt.plot( time, voltage, 'b*' )\n",
    "plt.xlabel(\"Time [s]\")\n",
    "plt.ylabel(\"Voltage [V]\")\n",
    "\n",
    "print(\"-----------------------------------------------------------------------------------\")\n",
    "print(\"These data have:\")\n",
    "print(\"\\tFrequency     = \", Freq, \"(Hz)\")\n",
    "print(\"\\tPhase         = \", Phase)\n",
    "print(\"\\tNormalisation = \", Normalisation, \" (V)\")\n",
    "print(\"\\tConstant      = \", Constant, \" (V)\")\n",
    "print(\"\\tNoise         = \", Noise*100, \" (%)\")\n",
    "print(\"\\tt             = [\", time_min, \", \", time_max, \"] (s)\")\n",
    "print(\"\\tN(data)       = \", N)\n",
    "print(\"-----------------------------------------------------------------------------------\")\n"
   ]
  },
  {
   "cell_type": "code",
   "execution_count": 10,
   "metadata": {},
   "outputs": [
    {
     "name": "stdout",
     "output_type": "stream",
     "text": [
      "Fitted results for the model are below.\n",
      "-----------------------------------------------------------------------------------\n",
      "normalisation    = 3.701e-01 +/- 4.075e-02 (stat.) [non-zero value significance =   9.1 sigma]\n",
      "frequency        = 4.915e+01 +/- 6.214e-01 (stat.) [non-zero value significance =  79.1 sigma]\n",
      "constant offset  = 1.990e-22 +/- 2.902e-02 (stat.) [non-zero value significance =   0.0 sigma]\n",
      "phase            = 2.521e-18 +/- 2.192e-01 (stat.) [non-zero value significance =   0.0 sigma]\n",
      "-----------------------------------------------------------------------------------\n",
      "\n",
      "Covariance Matrix:\n",
      "[[ 1.66018532e-03  8.19578631e-04 -9.54819909e-06 -3.07196523e-04]\n",
      " [ 8.19578631e-04  3.86117585e-01  1.18517360e-03 -1.17371690e-01]\n",
      " [-9.54819909e-06  1.18517360e-03  8.42400902e-04 -2.87803566e-04]\n",
      " [-3.07196523e-04 -1.17371690e-01 -2.87803566e-04  4.80624395e-02]]\n",
      "-----------------------------------------------------------------------------------\n"
     ]
    },
    {
     "data": {
      "text/plain": [
       "Text(0, 0.5, 'Voltage [V]')"
      ]
     },
     "execution_count": 10,
     "metadata": {},
     "output_type": "execute_result"
    },
    {
     "data": {
      "image/png": "[encoded data removed]",
      "text/plain": [
       "<Figure size 432x288 with 1 Axes>"
      ]
     },
     "metadata": {
      "needs_background": "light"
     },
     "output_type": "display_data"
    }
   ],
   "source": [
    "\n",
    "\"\"\"\n",
    "Use the scipy optimise function to fit the data for a noise term.  This is a \n",
    "non-linear least squares to fit a function, fitFunction, to data.  Note that the\n",
    "documentation for this method can be found online at\n",
    "\n",
    "  https://docs.scipy.org/doc/scipy/reference/generated/scipy.optimize.curve_fit.html#scipy.optimize.curve_fit\n",
    "  \n",
    "\"\"\"\n",
    "params, params_covariance = optimize.curve_fit(fitFunction, time, voltage, \\\n",
    "                                               p0 = [Normalisation, Freq, Constant, Phase] , \\\n",
    "                                               bounds=(0, [10, 100.0, 10, 2.0*np.pi]))\n",
    "\n",
    "\"\"\"\n",
    "The ordering of the fitted parameters corresponds to the ordering of the arguments in \n",
    "the function fitFunction.  The first argument in that function is the time.  The remaining\n",
    "arguments are the local parameters:\n",
    "  Normalisation - normalisation \n",
    "  Freq          - frequency\n",
    "  Constant      - constant\n",
    "  Phase         - phase shift\n",
    "\"\"\"\n",
    "fitted_norm = params[0]\n",
    "fitted_norm_err = np.sqrt( params_covariance[0][0] )\n",
    "fitted_freq = params[1]\n",
    "fitted_freq_err =  np.sqrt( params_covariance[1][1] )\n",
    "fitted_const = params[2]\n",
    "fitted_const_err =   np.sqrt(params_covariance[2][2] )\n",
    "fitted_phi = params[3]\n",
    "fitted_phi_err =   np.sqrt(params_covariance[3][3] )\n",
    "\n",
    "print(\"Fitted results for the model are below.\")\n",
    "print(\"-----------------------------------------------------------------------------------\")\n",
    "print_param(\"normalisation  \",  fitted_norm,    fitted_norm_err)\n",
    "print_param(\"frequency      \",  fitted_freq,    fitted_freq_err)\n",
    "print_param(\"constant offset\",  fitted_const,   fitted_const_err)\n",
    "print_param(\"phase          \",  fitted_phi,     fitted_phi_err)\n",
    "print(\"-----------------------------------------------------------------------------------\")\n",
    "\n",
    "print(\"\\nCovariance Matrix:\")\n",
    "print(params_covariance)\n",
    "print(\"-----------------------------------------------------------------------------------\")\n",
    "\n",
    "\n",
    "model = []\n",
    "for t in time:\n",
    "    model.append( fitFunction(t, *params) )\n",
    "\n",
    "## plot the scope trace\n",
    "fig = plt.figure()\n",
    "plt.plot( time, voltage, 'b*' )\n",
    "plt.plot( time, model, 'r' )\n",
    "plt.xlabel(\"Time [s]\")\n",
    "plt.ylabel(\"Voltage [V]\")\n",
    "\n"
   ]
  },
  {
   "cell_type": "code",
   "execution_count": null,
   "metadata": {},
   "outputs": [],
   "source": []
  }
 ],
 "metadata": {
  "kernelspec": {
   "display_name": "Python 3",
   "language": "python",
   "name": "python3"
  },
  "language_info": {
   "codemirror_mode": {
    "name": "ipython",
    "version": 3
   },
   "file_extension": ".py",
   "mimetype": "text/x-python",
   "name": "python",
   "nbconvert_exporter": "python",
   "pygments_lexer": "ipython3",
   "version": "3.6.10"
  }
 },
 "nbformat": 4,
 "nbformat_minor": 2
}
